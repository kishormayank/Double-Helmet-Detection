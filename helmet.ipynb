{
  "nbformat": 4,
  "nbformat_minor": 0,
  "metadata": {
    "colab": {
      "name": "helmet.ipynb",
      "provenance": [],
      "collapsed_sections": []
    },
    "kernelspec": {
      "name": "python3",
      "display_name": "Python 3"
    }
  },
  "cells": [
    {
      "cell_type": "code",
      "metadata": {
        "colab": {
          "base_uri": "https://localhost:8080/"
        },
        "id": "XRtx0-18LAdN",
        "outputId": "37785ef0-43d0-4df7-81fb-591d61b84451"
      },
      "source": [
        "\n",
        "from google.colab import drive\n",
        "drive.mount('/content/drive')"
      ],
      "execution_count": null,
      "outputs": [
        {
          "output_type": "stream",
          "text": [
            "Mounted at /content/drive\n"
          ],
          "name": "stdout"
        }
      ]
    },
    {
      "cell_type": "code",
      "metadata": {
        "id": "EYfRUZQgLCZx"
      },
      "source": [
        "from keras.layers import Input, Lambda, Dense, Flatten\n",
        "from keras.models import Model\n",
        "from keras.applications.vgg16 import VGG16\n",
        "from keras.applications.vgg16 import preprocess_input\n",
        "from keras.preprocessing import image\n",
        "from keras.preprocessing.image import ImageDataGenerator\n",
        "from keras.models import Sequential\n",
        "import numpy as np\n",
        "from glob import glob\n",
        "import matplotlib.pyplot as plt"
      ],
      "execution_count": null,
      "outputs": []
    },
    {
      "cell_type": "code",
      "metadata": {
        "id": "C98XalphLOUh"
      },
      "source": [
        "IMAGE_SIZE = [224, 224]\n",
        "\n",
        "train_path = '/content/drive/My Drive/helmet_detection/training'\n",
        "valid_path = '/content/drive/My Drive/helmet_detection/validation'"
      ],
      "execution_count": null,
      "outputs": []
    },
    {
      "cell_type": "code",
      "metadata": {
        "id": "qP6ObPYTLP7r"
      },
      "source": [
        "vgg = VGG16(input_shape=IMAGE_SIZE + [3], weights='imagenet', include_top=False)"
      ],
      "execution_count": null,
      "outputs": []
    },
    {
      "cell_type": "code",
      "metadata": {
        "id": "zVUBnBeMLYbG"
      },
      "source": [
        "for layer in vgg.layers:\n",
        "  layer.trainable = False\n",
        "  "
      ],
      "execution_count": null,
      "outputs": []
    },
    {
      "cell_type": "code",
      "metadata": {
        "id": "XbQtAwTVLenz"
      },
      "source": [
        "folders = glob('/content/drive/My Drive/helmet_detection/training/*')"
      ],
      "execution_count": null,
      "outputs": []
    },
    {
      "cell_type": "code",
      "metadata": {
        "id": "gq0LaQRRLR6Z"
      },
      "source": [
        "x = Flatten()(vgg.output)\n",
        "\n",
        "prediction = Dense(len(folders), activation='softmax')(x)\n"
      ],
      "execution_count": null,
      "outputs": []
    },
    {
      "cell_type": "code",
      "metadata": {
        "id": "QsGaQWw2LVlD"
      },
      "source": [
        "model = Model(inputs=vgg.input, outputs=prediction)"
      ],
      "execution_count": null,
      "outputs": []
    },
    {
      "cell_type": "code",
      "metadata": {
        "colab": {
          "base_uri": "https://localhost:8080/"
        },
        "id": "iQCceqUVLj_b",
        "outputId": "c54df71e-210d-49e3-e60d-ea6b5bd52c43"
      },
      "source": [
        "model.summary()\n"
      ],
      "execution_count": null,
      "outputs": [
        {
          "output_type": "stream",
          "text": [
            "Model: \"model_1\"\n",
            "_________________________________________________________________\n",
            "Layer (type)                 Output Shape              Param #   \n",
            "=================================================================\n",
            "input_2 (InputLayer)         [(None, 224, 224, 3)]     0         \n",
            "_________________________________________________________________\n",
            "block1_conv1 (Conv2D)        (None, 224, 224, 64)      1792      \n",
            "_________________________________________________________________\n",
            "block1_conv2 (Conv2D)        (None, 224, 224, 64)      36928     \n",
            "_________________________________________________________________\n",
            "block1_pool (MaxPooling2D)   (None, 112, 112, 64)      0         \n",
            "_________________________________________________________________\n",
            "block2_conv1 (Conv2D)        (None, 112, 112, 128)     73856     \n",
            "_________________________________________________________________\n",
            "block2_conv2 (Conv2D)        (None, 112, 112, 128)     147584    \n",
            "_________________________________________________________________\n",
            "block2_pool (MaxPooling2D)   (None, 56, 56, 128)       0         \n",
            "_________________________________________________________________\n",
            "block3_conv1 (Conv2D)        (None, 56, 56, 256)       295168    \n",
            "_________________________________________________________________\n",
            "block3_conv2 (Conv2D)        (None, 56, 56, 256)       590080    \n",
            "_________________________________________________________________\n",
            "block3_conv3 (Conv2D)        (None, 56, 56, 256)       590080    \n",
            "_________________________________________________________________\n",
            "block3_pool (MaxPooling2D)   (None, 28, 28, 256)       0         \n",
            "_________________________________________________________________\n",
            "block4_conv1 (Conv2D)        (None, 28, 28, 512)       1180160   \n",
            "_________________________________________________________________\n",
            "block4_conv2 (Conv2D)        (None, 28, 28, 512)       2359808   \n",
            "_________________________________________________________________\n",
            "block4_conv3 (Conv2D)        (None, 28, 28, 512)       2359808   \n",
            "_________________________________________________________________\n",
            "block4_pool (MaxPooling2D)   (None, 14, 14, 512)       0         \n",
            "_________________________________________________________________\n",
            "block5_conv1 (Conv2D)        (None, 14, 14, 512)       2359808   \n",
            "_________________________________________________________________\n",
            "block5_conv2 (Conv2D)        (None, 14, 14, 512)       2359808   \n",
            "_________________________________________________________________\n",
            "block5_conv3 (Conv2D)        (None, 14, 14, 512)       2359808   \n",
            "_________________________________________________________________\n",
            "block5_pool (MaxPooling2D)   (None, 7, 7, 512)         0         \n",
            "_________________________________________________________________\n",
            "flatten_2 (Flatten)          (None, 25088)             0         \n",
            "_________________________________________________________________\n",
            "dense_1 (Dense)              (None, 1000)              25089000  \n",
            "_________________________________________________________________\n",
            "dense_2 (Dense)              (None, 2)                 2002      \n",
            "=================================================================\n",
            "Total params: 39,805,690\n",
            "Trainable params: 25,091,002\n",
            "Non-trainable params: 14,714,688\n",
            "_________________________________________________________________\n"
          ],
          "name": "stdout"
        }
      ]
    },
    {
      "cell_type": "code",
      "metadata": {
        "id": "Wt2Pbvg6LlSa"
      },
      "source": [
        "model.compile(\n",
        "  loss='categorical_crossentropy',\n",
        "  optimizer='adam',\n",
        "  metrics=['accuracy']\n",
        ")"
      ],
      "execution_count": null,
      "outputs": []
    },
    {
      "cell_type": "code",
      "metadata": {
        "id": "HYyG8fF1Lnro"
      },
      "source": [
        "from keras.preprocessing.image import ImageDataGenerator"
      ],
      "execution_count": null,
      "outputs": []
    },
    {
      "cell_type": "code",
      "metadata": {
        "id": "6n3q3LqgLpKK"
      },
      "source": [
        "train_datagen = ImageDataGenerator(rescale = 1./255,\n",
        "                                   shear_range = 0.2,\n",
        "                                   zoom_range = 0.2,\n",
        "                                   horizontal_flip = True)"
      ],
      "execution_count": null,
      "outputs": []
    },
    {
      "cell_type": "code",
      "metadata": {
        "id": "ZRgkfpD4Lq0w"
      },
      "source": [
        "test_datagen = ImageDataGenerator(rescale = 1./255)"
      ],
      "execution_count": null,
      "outputs": []
    },
    {
      "cell_type": "code",
      "metadata": {
        "colab": {
          "base_uri": "https://localhost:8080/"
        },
        "id": "AQ-TtZp8Lsme",
        "outputId": "7f4adc6b-654a-4f8a-e704-f59531cd34e8"
      },
      "source": [
        "training_set = train_datagen.flow_from_directory('/content/drive/My Drive/helmet_detection/training',\n",
        "                                                 target_size = (224, 224),\n",
        "                                                 batch_size = 32,\n",
        "                                                 class_mode = 'categorical')"
      ],
      "execution_count": null,
      "outputs": [
        {
          "output_type": "stream",
          "text": [
            "Found 200 images belonging to 2 classes.\n"
          ],
          "name": "stdout"
        }
      ]
    },
    {
      "cell_type": "code",
      "metadata": {
        "colab": {
          "base_uri": "https://localhost:8080/"
        },
        "id": "F1EuLDnXLwo6",
        "outputId": "e01b61cf-f808-4f20-f57a-5b524fa31c88"
      },
      "source": [
        "test_set = test_datagen.flow_from_directory('/content/drive/My Drive/helmet_detection/validation',\n",
        "                                            target_size = (224, 224),\n",
        "                                            batch_size = 32,\n",
        "                                            class_mode = 'categorical')"
      ],
      "execution_count": null,
      "outputs": [
        {
          "output_type": "stream",
          "text": [
            "Found 32 images belonging to 2 classes.\n"
          ],
          "name": "stdout"
        }
      ]
    },
    {
      "cell_type": "code",
      "metadata": {
        "colab": {
          "base_uri": "https://localhost:8080/"
        },
        "id": "AjdqhaSnL9YI",
        "outputId": "40b568d9-3305-486b-a36a-846ff02c2343"
      },
      "source": [
        "r = model.fit_generator(\n",
        "  training_set,\n",
        "  validation_data=test_set,\n",
        "  epochs=15,\n",
        "  steps_per_epoch=len(training_set),\n",
        "  validation_steps=len(test_set)\n",
        ")"
      ],
      "execution_count": null,
      "outputs": [
        {
          "output_type": "stream",
          "text": [
            "/usr/local/lib/python3.6/dist-packages/tensorflow/python/keras/engine/training.py:1844: UserWarning: `Model.fit_generator` is deprecated and will be removed in a future version. Please use `Model.fit`, which supports generators.\n",
            "  warnings.warn('`Model.fit_generator` is deprecated and '\n"
          ],
          "name": "stderr"
        },
        {
          "output_type": "stream",
          "text": [
            "Epoch 1/15\n",
            "7/7 [==============================] - 69s 10s/step - loss: 11.7022 - accuracy: 0.4752 - val_loss: 4.7326 - val_accuracy: 0.5000\n",
            "Epoch 2/15\n",
            "7/7 [==============================] - 68s 11s/step - loss: 1.8606 - accuracy: 0.6376 - val_loss: 1.0048 - val_accuracy: 0.5625\n",
            "Epoch 3/15\n",
            "7/7 [==============================] - 68s 10s/step - loss: 1.1334 - accuracy: 0.5884 - val_loss: 0.3936 - val_accuracy: 0.8125\n",
            "Epoch 4/15\n",
            "7/7 [==============================] - 68s 10s/step - loss: 0.4747 - accuracy: 0.7794 - val_loss: 0.2384 - val_accuracy: 0.8750\n",
            "Epoch 5/15\n",
            "7/7 [==============================] - 68s 10s/step - loss: 0.3500 - accuracy: 0.8725 - val_loss: 0.2228 - val_accuracy: 0.9375\n",
            "Epoch 6/15\n",
            "7/7 [==============================] - 68s 11s/step - loss: 0.2426 - accuracy: 0.8795 - val_loss: 0.1379 - val_accuracy: 1.0000\n",
            "Epoch 7/15\n",
            "7/7 [==============================] - 68s 11s/step - loss: 0.2019 - accuracy: 0.9124 - val_loss: 0.1317 - val_accuracy: 0.9375\n",
            "Epoch 8/15\n",
            "7/7 [==============================] - 68s 10s/step - loss: 0.1869 - accuracy: 0.9357 - val_loss: 0.0884 - val_accuracy: 1.0000\n",
            "Epoch 9/15\n",
            "7/7 [==============================] - 68s 10s/step - loss: 0.1251 - accuracy: 0.9712 - val_loss: 0.0744 - val_accuracy: 1.0000\n",
            "Epoch 10/15\n",
            "7/7 [==============================] - 68s 10s/step - loss: 0.1157 - accuracy: 0.9731 - val_loss: 0.1509 - val_accuracy: 0.9375\n",
            "Epoch 11/15\n",
            "7/7 [==============================] - 68s 10s/step - loss: 0.1975 - accuracy: 0.9455 - val_loss: 0.0517 - val_accuracy: 1.0000\n",
            "Epoch 12/15\n",
            "7/7 [==============================] - 68s 10s/step - loss: 0.1616 - accuracy: 0.9462 - val_loss: 0.1263 - val_accuracy: 0.9375\n",
            "Epoch 13/15\n",
            "7/7 [==============================] - 68s 10s/step - loss: 0.1481 - accuracy: 0.9551 - val_loss: 0.0395 - val_accuracy: 1.0000\n",
            "Epoch 14/15\n",
            "7/7 [==============================] - 68s 10s/step - loss: 0.0775 - accuracy: 0.9830 - val_loss: 0.0259 - val_accuracy: 1.0000\n",
            "Epoch 15/15\n",
            "7/7 [==============================] - 68s 11s/step - loss: 0.0546 - accuracy: 0.9946 - val_loss: 0.0228 - val_accuracy: 1.0000\n"
          ],
          "name": "stdout"
        }
      ]
    },
    {
      "cell_type": "code",
      "metadata": {
        "id": "a6RHWaEsU_Tk"
      },
      "source": [
        "import tensorflow as tf\n",
        "from tensorflow.keras.applications import VGG16"
      ],
      "execution_count": null,
      "outputs": []
    },
    {
      "cell_type": "code",
      "metadata": {
        "id": "w86HlND3U5KW"
      },
      "source": [
        "tf.keras.models.save_model(model,'/content/drive/MyDrive/helmet_detection/model5.hdf5')"
      ],
      "execution_count": null,
      "outputs": []
    },
    {
      "cell_type": "code",
      "metadata": {
        "colab": {
          "base_uri": "https://localhost:8080/",
          "height": 283
        },
        "id": "Mb6JTaF3L_Nq",
        "outputId": "6e55c2a5-3f5d-4b3c-bec8-85d2863071a5"
      },
      "source": [
        "plt.plot(r.history['loss'], label='train loss')\n",
        "plt.plot(r.history['val_loss'], label='val loss')\n",
        "plt.legend()\n",
        "plt.show()\n",
        "plt.savefig('LossVal_loss')"
      ],
      "execution_count": null,
      "outputs": [
        {
          "output_type": "display_data",
          "data": {
            "image/png": "[encoded data removed]",
            "text/plain": [
              "<Figure size 432x288 with 1 Axes>"
            ]
          },
          "metadata": {
            "tags": [],
            "needs_background": "light"
          }
        },
        {
          "output_type": "display_data",
          "data": {
            "text/plain": [
              "<Figure size 432x288 with 0 Axes>"
            ]
          },
          "metadata": {
            "tags": []
          }
        }
      ]
    },
    {
      "cell_type": "code",
      "metadata": {
        "colab": {
          "base_uri": "https://localhost:8080/",
          "height": 283
        },
        "id": "fZUNMrs9NKYD",
        "outputId": "40affb99-81c4-4f2a-c2fa-6422c458d4ae"
      },
      "source": [
        "plt.plot(r.history['accuracy'], label='train acc')\n",
        "plt.plot(r.history['val_accuracy'], label='val acc')\n",
        "plt.legend()\n",
        "plt.show()\n",
        "plt.savefig('AccVal_acc')"
      ],
      "execution_count": null,
      "outputs": [
        {
          "output_type": "display_data",
          "data": {
            "image/png": "[encoded data removed]",
            "text/plain": [
              "<Figure size 432x288 with 1 Axes>"
            ]
          },
          "metadata": {
            "tags": [],
            "needs_background": "light"
          }
        },
        {
          "output_type": "display_data",
          "data": {
            "text/plain": [
              "<Figure size 432x288 with 0 Axes>"
            ]
          },
          "metadata": {
            "tags": []
          }
        }
      ]
    },
    {
      "cell_type": "code",
      "metadata": {
        "id": "nGwhiejATPaN"
      },
      "source": [
        "from keras.preprocessing import image as image_utils"
      ],
      "execution_count": null,
      "outputs": []
    },
    {
      "cell_type": "code",
      "metadata": {
        "id": "wFfwadfYO09G"
      },
      "source": [
        "test_image = image_utils.load_img('/content/drive/My Drive/helmet_detection/ss.jpg', target_size=(224, 224))\n",
        "test_image = image_utils.img_to_array(test_image)\n",
        "test_image = np.expand_dims(test_image, axis=0)"
      ],
      "execution_count": null,
      "outputs": []
    },
    {
      "cell_type": "code",
      "metadata": {
        "colab": {
          "base_uri": "https://localhost:8080/"
        },
        "id": "pqZ6qM-iR7IG",
        "outputId": "4531865f-7b61-4a28-a9d2-2d5ee2623a84"
      },
      "source": [
        "result1 = model.predict_on_batch(test_image)\n",
        "result1"
      ],
      "execution_count": null,
      "outputs": [
        {
          "output_type": "execute_result",
          "data": {
            "text/plain": [
              "array([[9.9999988e-01, 1.0159958e-07]], dtype=float32)"
            ]
          },
          "metadata": {
            "tags": []
          },
          "execution_count": 50
        }
      ]
    },
    {
      "cell_type": "code",
      "metadata": {
        "colab": {
          "base_uri": "https://localhost:8080/"
        },
        "id": "e9vVqYXrR_Lc",
        "outputId": "324c56a6-36fd-499e-8d94-9d5fde664c73"
      },
      "source": [
        "print(result1.argmax())\n",
        "for category, value in test_set.class_indices.items():\n",
        "            if value == result1.argmax():\n",
        "                print(category)"
      ],
      "execution_count": null,
      "outputs": [
        {
          "output_type": "stream",
          "text": [
            "0\n",
            "pillion_not_wearing_helmet\n"
          ],
          "name": "stdout"
        }
      ]
    },
    {
      "cell_type": "code",
      "metadata": {
        "id": "3qK_DK85Vkvo"
      },
      "source": [
        ""
      ],
      "execution_count": null,
      "outputs": []
    }
  ]
}